{
 "cells": [
  {
   "cell_type": "code",
   "execution_count": 1,
   "metadata": {},
   "outputs": [],
   "source": [
    "from dotenv import load_dotenv\n",
    "import os\n",
    "from pathlib import Path\n",
    "from alpaca.data import CryptoHistoricalDataClient, StockHistoricalDataClient\n",
    "from alpaca.data.requests import CryptoBarsRequest\n",
    "from alpaca.data.timeframe import TimeFrame\n",
    "import pandas as pd\n",
    "from sqlalchemy import create_engine\n",
    "from alpaca.trading.client import TradingClient\n",
    "from alpaca.trading.requests import MarketOrderRequest\n",
    "from alpaca.trading.enums import OrderSide, TimeInForce"
   ]
  },
  {
   "cell_type": "code",
   "execution_count": 2,
   "metadata": {},
   "outputs": [
    {
     "data": {
      "text/plain": [
       "True"
      ]
     },
     "execution_count": 2,
     "metadata": {},
     "output_type": "execute_result"
    }
   ],
   "source": [
    "local_dir = os.path.dirname(os.path.abspath('__file__'))\n",
    "parent_dir = os.path.dirname(local_dir)\n",
    "config_file_path = os.path.join(parent_dir,'API.env')\n",
    "load_dotenv(Path(config_file_path))"
   ]
  },
  {
   "cell_type": "code",
   "execution_count": 3,
   "metadata": {},
   "outputs": [
    {
     "name": "stdout",
     "output_type": "stream",
     "text": [
      "/Users/ml1000278614/Documents/PythonProjects/stock_paper_trader\n"
     ]
    }
   ],
   "source": [
    "local_dir = os.path.dirname(os.path.abspath('__file__'))\n",
    "print(os.path.dirname(local_dir))"
   ]
  },
  {
   "cell_type": "code",
   "execution_count": 5,
   "metadata": {},
   "outputs": [
    {
     "data": {
      "text/plain": [
       "'PKZ8VHIL01SZ5OACM0VR'"
      ]
     },
     "execution_count": 5,
     "metadata": {},
     "output_type": "execute_result"
    }
   ],
   "source": [
    "api_key = os.getenv(\"API_KEY\")\n",
    "api_secret = os.getenv(\"API_SECRET\")\n",
    "base_url = os.getenv(\"BASE_URL\")\n",
    "\n",
    "api_key"
   ]
  },
  {
   "cell_type": "code",
   "execution_count": 13,
   "metadata": {},
   "outputs": [],
   "source": [
    "from google.cloud import storage"
   ]
  },
  {
   "cell_type": "code",
   "execution_count": 53,
   "metadata": {},
   "outputs": [
    {
     "data": {
      "text/html": [
       "<div>\n",
       "<style scoped>\n",
       "    .dataframe tbody tr th:only-of-type {\n",
       "        vertical-align: middle;\n",
       "    }\n",
       "\n",
       "    .dataframe tbody tr th {\n",
       "        vertical-align: top;\n",
       "    }\n",
       "\n",
       "    .dataframe thead th {\n",
       "        text-align: right;\n",
       "    }\n",
       "</style>\n",
       "<table border=\"1\" class=\"dataframe\">\n",
       "  <thead>\n",
       "    <tr style=\"text-align: right;\">\n",
       "      <th></th>\n",
       "      <th>stock</th>\n",
       "      <th>action</th>\n",
       "      <th>price</th>\n",
       "      <th>date</th>\n",
       "    </tr>\n",
       "  </thead>\n",
       "  <tbody>\n",
       "    <tr>\n",
       "      <th>0</th>\n",
       "      <td>btc-usd</td>\n",
       "      <td>sell</td>\n",
       "      <td>2450.19</td>\n",
       "      <td>01-05-2024</td>\n",
       "    </tr>\n",
       "  </tbody>\n",
       "</table>\n",
       "</div>"
      ],
      "text/plain": [
       "     stock action    price        date\n",
       "0  btc-usd   sell  2450.19  01-05-2024"
      ]
     },
     "execution_count": 53,
     "metadata": {},
     "output_type": "execute_result"
    }
   ],
   "source": [
    "data = {'stock':['btc-usd'],'action':['sell'],'price':[2450.19],'date':['01-05-2024']}\n",
    "df = pd.DataFrame(data)\n",
    "df"
   ]
  },
  {
   "cell_type": "code",
   "execution_count": 54,
   "metadata": {},
   "outputs": [],
   "source": [
    "client = storage.Client()\n",
    "\n",
    "bucket_name = 'trade-result-bucket'\n",
    "blob_name = 'trade-results.db'\n",
    "\n",
    "table_name = 'results'\n",
    "url = 'sqlite:///temp_db_file.db'\n",
    "\n",
    "# Connect to google cloud bucket\n",
    "bucket = client.get_bucket('trade-result-bucket')\n",
    "blob = bucket.blob(blob_name)\n",
    "\n",
    "# Check if blob exists\n",
    "if blob.exists():\n",
    "    blob.download_to_filename(\"temp_db_file.db\")\n",
    "\n",
    "engine = create_engine(url)\n",
    "\n",
    "df.to_sql(table_name,con=engine,if_exists='append',index=False)\n",
    "\n",
    "# Upload updated db file\n",
    "blob.upload_from_filename(\"temp_db_file.db\")\n",
    "\n",
    "# Remove File\n",
    "os.remove(\"temp_db_file.db\")\n",
    "\n"
   ]
  },
  {
   "cell_type": "code",
   "execution_count": 14,
   "metadata": {},
   "outputs": [
    {
     "data": {
      "text/html": [
       "<div>\n",
       "<style scoped>\n",
       "    .dataframe tbody tr th:only-of-type {\n",
       "        vertical-align: middle;\n",
       "    }\n",
       "\n",
       "    .dataframe tbody tr th {\n",
       "        vertical-align: top;\n",
       "    }\n",
       "\n",
       "    .dataframe thead th {\n",
       "        text-align: right;\n",
       "    }\n",
       "</style>\n",
       "<table border=\"1\" class=\"dataframe\">\n",
       "  <thead>\n",
       "    <tr style=\"text-align: right;\">\n",
       "      <th></th>\n",
       "      <th>stock</th>\n",
       "      <th>action</th>\n",
       "      <th>price</th>\n",
       "      <th>date</th>\n",
       "    </tr>\n",
       "  </thead>\n",
       "  <tbody>\n",
       "    <tr>\n",
       "      <th>0</th>\n",
       "      <td>BTC/USD</td>\n",
       "      <td>None</td>\n",
       "      <td>62489.955</td>\n",
       "      <td>2024-05-08 05:00:00.000000</td>\n",
       "    </tr>\n",
       "    <tr>\n",
       "      <th>1</th>\n",
       "      <td>BTC/USD</td>\n",
       "      <td>None</td>\n",
       "      <td>62489.955</td>\n",
       "      <td>2024-05-08 05:00:00.000000</td>\n",
       "    </tr>\n",
       "  </tbody>\n",
       "</table>\n",
       "</div>"
      ],
      "text/plain": [
       "     stock action      price                        date\n",
       "0  BTC/USD   None  62489.955  2024-05-08 05:00:00.000000\n",
       "1  BTC/USD   None  62489.955  2024-05-08 05:00:00.000000"
      ]
     },
     "execution_count": 14,
     "metadata": {},
     "output_type": "execute_result"
    }
   ],
   "source": [
    "client = storage.Client()\n",
    "\n",
    "bucket_name = 'trade-result-bucket'\n",
    "blob_name = 'trade-results.db'\n",
    "\n",
    "table_name = 'results'\n",
    "url = 'sqlite:///temp_db_file.db'\n",
    "\n",
    "# Connect to google cloud bucket\n",
    "bucket = client.get_bucket('trade-result-bucket')\n",
    "blob = bucket.blob(blob_name)\n",
    "\n",
    "blob.download_to_filename(\"temp_db_file.db\")\n",
    "\n",
    "engine = create_engine(url)\n",
    "query = f\"SELECT * FROM {table_name}\"\n",
    "\n",
    "pd.read_sql(query,engine)"
   ]
  },
  {
   "cell_type": "code",
   "execution_count": 6,
   "metadata": {},
   "outputs": [],
   "source": [
    "client = CryptoHistoricalDataClient()\n",
    "stock_client = StockHistoricalDataClient(api_key,api_secret)"
   ]
  },
  {
   "cell_type": "code",
   "execution_count": 7,
   "metadata": {},
   "outputs": [],
   "source": [
    "request_params = CryptoBarsRequest(\n",
    "    symbol_or_symbols=[\"BTC/USD\"],\n",
    "    timeframe=TimeFrame.Day,\n",
    "    start=\"2020-01-01\"\n",
    ")\n",
    "\n",
    "btc_bars = client.get_crypto_bars(request_params=request_params)\n",
    "df = btc_bars.df"
   ]
  },
  {
   "cell_type": "code",
   "execution_count": 66,
   "metadata": {},
   "outputs": [],
   "source": [
    "df.reset_index(inplace=True)"
   ]
  },
  {
   "cell_type": "code",
   "execution_count": 67,
   "metadata": {},
   "outputs": [
    {
     "data": {
      "text/html": [
       "<div>\n",
       "<style scoped>\n",
       "    .dataframe tbody tr th:only-of-type {\n",
       "        vertical-align: middle;\n",
       "    }\n",
       "\n",
       "    .dataframe tbody tr th {\n",
       "        vertical-align: top;\n",
       "    }\n",
       "\n",
       "    .dataframe thead th {\n",
       "        text-align: right;\n",
       "    }\n",
       "</style>\n",
       "<table border=\"1\" class=\"dataframe\">\n",
       "  <thead>\n",
       "    <tr style=\"text-align: right;\">\n",
       "      <th></th>\n",
       "      <th>symbol</th>\n",
       "      <th>timestamp</th>\n",
       "      <th>open</th>\n",
       "      <th>high</th>\n",
       "      <th>low</th>\n",
       "      <th>close</th>\n",
       "      <th>volume</th>\n",
       "      <th>trade_count</th>\n",
       "      <th>vwap</th>\n",
       "    </tr>\n",
       "  </thead>\n",
       "  <tbody>\n",
       "    <tr>\n",
       "      <th>0</th>\n",
       "      <td>BTC/USD</td>\n",
       "      <td>2021-01-01 06:00:00+00:00</td>\n",
       "      <td>29255.7100</td>\n",
       "      <td>29682.29000</td>\n",
       "      <td>28707.5600</td>\n",
       "      <td>29676.790</td>\n",
       "      <td>848.874030</td>\n",
       "      <td>29639.0</td>\n",
       "      <td>29316.444625</td>\n",
       "    </tr>\n",
       "    <tr>\n",
       "      <th>1</th>\n",
       "      <td>BTC/USD</td>\n",
       "      <td>2021-01-02 06:00:00+00:00</td>\n",
       "      <td>29678.3400</td>\n",
       "      <td>34200.00000</td>\n",
       "      <td>29555.9900</td>\n",
       "      <td>33769.520</td>\n",
       "      <td>2144.592516</td>\n",
       "      <td>60152.0</td>\n",
       "      <td>31941.412694</td>\n",
       "    </tr>\n",
       "    <tr>\n",
       "      <th>2</th>\n",
       "      <td>BTC/USD</td>\n",
       "      <td>2021-01-03 06:00:00+00:00</td>\n",
       "      <td>33769.5200</td>\n",
       "      <td>34812.93000</td>\n",
       "      <td>32300.6100</td>\n",
       "      <td>32908.020</td>\n",
       "      <td>1838.695433</td>\n",
       "      <td>58725.0</td>\n",
       "      <td>33505.269474</td>\n",
       "    </tr>\n",
       "    <tr>\n",
       "      <th>3</th>\n",
       "      <td>BTC/USD</td>\n",
       "      <td>2021-01-04 06:00:00+00:00</td>\n",
       "      <td>32907.3600</td>\n",
       "      <td>33496.03000</td>\n",
       "      <td>27900.0000</td>\n",
       "      <td>30441.570</td>\n",
       "      <td>2711.189503</td>\n",
       "      <td>69226.0</td>\n",
       "      <td>31267.965121</td>\n",
       "    </tr>\n",
       "    <tr>\n",
       "      <th>4</th>\n",
       "      <td>BTC/USD</td>\n",
       "      <td>2021-01-05 06:00:00+00:00</td>\n",
       "      <td>30461.8400</td>\n",
       "      <td>35851.42000</td>\n",
       "      <td>29927.5500</td>\n",
       "      <td>35063.000</td>\n",
       "      <td>1756.751333</td>\n",
       "      <td>61880.0</td>\n",
       "      <td>33151.367357</td>\n",
       "    </tr>\n",
       "    <tr>\n",
       "      <th>...</th>\n",
       "      <td>...</td>\n",
       "      <td>...</td>\n",
       "      <td>...</td>\n",
       "      <td>...</td>\n",
       "      <td>...</td>\n",
       "      <td>...</td>\n",
       "      <td>...</td>\n",
       "      <td>...</td>\n",
       "      <td>...</td>\n",
       "    </tr>\n",
       "    <tr>\n",
       "      <th>1219</th>\n",
       "      <td>BTC/USD</td>\n",
       "      <td>2024-05-04 05:00:00+00:00</td>\n",
       "      <td>63107.5095</td>\n",
       "      <td>64545.42500</td>\n",
       "      <td>62928.4145</td>\n",
       "      <td>63351.590</td>\n",
       "      <td>1.532918</td>\n",
       "      <td>89.0</td>\n",
       "      <td>63693.674070</td>\n",
       "    </tr>\n",
       "    <tr>\n",
       "      <th>1220</th>\n",
       "      <td>BTC/USD</td>\n",
       "      <td>2024-05-05 05:00:00+00:00</td>\n",
       "      <td>63389.6760</td>\n",
       "      <td>64643.33300</td>\n",
       "      <td>63164.3000</td>\n",
       "      <td>64163.150</td>\n",
       "      <td>0.459625</td>\n",
       "      <td>51.0</td>\n",
       "      <td>64238.200244</td>\n",
       "    </tr>\n",
       "    <tr>\n",
       "      <th>1221</th>\n",
       "      <td>BTC/USD</td>\n",
       "      <td>2024-05-06 05:00:00+00:00</td>\n",
       "      <td>64133.6520</td>\n",
       "      <td>65455.64194</td>\n",
       "      <td>62757.9390</td>\n",
       "      <td>63453.800</td>\n",
       "      <td>2.077109</td>\n",
       "      <td>256.0</td>\n",
       "      <td>64435.103616</td>\n",
       "    </tr>\n",
       "    <tr>\n",
       "      <th>1222</th>\n",
       "      <td>BTC/USD</td>\n",
       "      <td>2024-05-07 05:00:00+00:00</td>\n",
       "      <td>63422.5900</td>\n",
       "      <td>64356.47800</td>\n",
       "      <td>62171.5750</td>\n",
       "      <td>62510.200</td>\n",
       "      <td>0.656296</td>\n",
       "      <td>99.0</td>\n",
       "      <td>63067.503531</td>\n",
       "    </tr>\n",
       "    <tr>\n",
       "      <th>1223</th>\n",
       "      <td>BTC/USD</td>\n",
       "      <td>2024-05-08 05:00:00+00:00</td>\n",
       "      <td>62489.9550</td>\n",
       "      <td>62799.68700</td>\n",
       "      <td>61794.5845</td>\n",
       "      <td>62518.267</td>\n",
       "      <td>0.632962</td>\n",
       "      <td>54.0</td>\n",
       "      <td>62318.277947</td>\n",
       "    </tr>\n",
       "  </tbody>\n",
       "</table>\n",
       "<p>1224 rows × 9 columns</p>\n",
       "</div>"
      ],
      "text/plain": [
       "       symbol                 timestamp        open         high         low  \\\n",
       "0     BTC/USD 2021-01-01 06:00:00+00:00  29255.7100  29682.29000  28707.5600   \n",
       "1     BTC/USD 2021-01-02 06:00:00+00:00  29678.3400  34200.00000  29555.9900   \n",
       "2     BTC/USD 2021-01-03 06:00:00+00:00  33769.5200  34812.93000  32300.6100   \n",
       "3     BTC/USD 2021-01-04 06:00:00+00:00  32907.3600  33496.03000  27900.0000   \n",
       "4     BTC/USD 2021-01-05 06:00:00+00:00  30461.8400  35851.42000  29927.5500   \n",
       "...       ...                       ...         ...          ...         ...   \n",
       "1219  BTC/USD 2024-05-04 05:00:00+00:00  63107.5095  64545.42500  62928.4145   \n",
       "1220  BTC/USD 2024-05-05 05:00:00+00:00  63389.6760  64643.33300  63164.3000   \n",
       "1221  BTC/USD 2024-05-06 05:00:00+00:00  64133.6520  65455.64194  62757.9390   \n",
       "1222  BTC/USD 2024-05-07 05:00:00+00:00  63422.5900  64356.47800  62171.5750   \n",
       "1223  BTC/USD 2024-05-08 05:00:00+00:00  62489.9550  62799.68700  61794.5845   \n",
       "\n",
       "          close       volume  trade_count          vwap  \n",
       "0     29676.790   848.874030      29639.0  29316.444625  \n",
       "1     33769.520  2144.592516      60152.0  31941.412694  \n",
       "2     32908.020  1838.695433      58725.0  33505.269474  \n",
       "3     30441.570  2711.189503      69226.0  31267.965121  \n",
       "4     35063.000  1756.751333      61880.0  33151.367357  \n",
       "...         ...          ...          ...           ...  \n",
       "1219  63351.590     1.532918         89.0  63693.674070  \n",
       "1220  64163.150     0.459625         51.0  64238.200244  \n",
       "1221  63453.800     2.077109        256.0  64435.103616  \n",
       "1222  62510.200     0.656296         99.0  63067.503531  \n",
       "1223  62518.267     0.632962         54.0  62318.277947  \n",
       "\n",
       "[1224 rows x 9 columns]"
      ]
     },
     "execution_count": 67,
     "metadata": {},
     "output_type": "execute_result"
    }
   ],
   "source": [
    "df"
   ]
  },
  {
   "cell_type": "code",
   "execution_count": 6,
   "metadata": {},
   "outputs": [],
   "source": [
    "trading_client = TradingClient(api_key,api_secret,paper=True)"
   ]
  },
  {
   "cell_type": "code",
   "execution_count": 9,
   "metadata": {},
   "outputs": [],
   "source": [
    "market_order_data = MarketOrderRequest(\n",
    "    symbol='BTCUSD',\n",
    "    qty=0.23,\n",
    "    side=OrderSide.BUY,\n",
    "    time_in_force=TimeInForce.GTC\n",
    ")\n",
    "market_order = trading_client.submit_order(\n",
    "    order_data=market_order_data\n",
    ")"
   ]
  },
  {
   "cell_type": "code",
   "execution_count": 11,
   "metadata": {},
   "outputs": [],
   "source": [
    "pos = trading_client.get_open_position('BTCUSD')\n",
    "\n",
    "market_order_data = MarketOrderRequest(\n",
    "    symbol='BTCUSD',\n",
    "    qty=pos.qty,\n",
    "    side=OrderSide.SELL,\n",
    "    time_in_force=TimeInForce.GTC\n",
    ")\n",
    "\n",
    "market_order = trading_client.submit_order(\n",
    "    order_data=market_order_data\n",
    ")"
   ]
  },
  {
   "cell_type": "code",
   "execution_count": null,
   "metadata": {},
   "outputs": [],
   "source": []
  }
 ],
 "metadata": {
  "kernelspec": {
   "display_name": "Python 3.10.14 ('paperTradeVenv')",
   "language": "python",
   "name": "python3"
  },
  "language_info": {
   "codemirror_mode": {
    "name": "ipython",
    "version": 3
   },
   "file_extension": ".py",
   "mimetype": "text/x-python",
   "name": "python",
   "nbconvert_exporter": "python",
   "pygments_lexer": "ipython3",
   "version": "3.10.14"
  },
  "orig_nbformat": 4,
  "vscode": {
   "interpreter": {
    "hash": "418751ef2703805e638e5172c2991c3c2d3b23812b47569403eb8339550319a8"
   }
  }
 },
 "nbformat": 4,
 "nbformat_minor": 2
}
