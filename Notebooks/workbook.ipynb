{
 "cells": [
  {
   "cell_type": "code",
   "execution_count": 13,
   "metadata": {},
   "outputs": [],
   "source": [
    "from dotenv import load_dotenv\n",
    "import os\n",
    "from pathlib import Path\n",
    "from alpaca.data import CryptoHistoricalDataClient, StockHistoricalDataClient\n",
    "from alpaca.data.requests import CryptoBarsRequest\n",
    "from alpaca.data.timeframe import TimeFrame\n",
    "import pandas as pd\n",
    "from alpaca.trading.client import TradingClient\n",
    "from alpaca.trading.requests import MarketOrderRequest\n",
    "from alpaca.trading.enums import OrderSide, TimeInForce"
   ]
  },
  {
   "cell_type": "code",
   "execution_count": 2,
   "metadata": {},
   "outputs": [
    {
     "data": {
      "text/plain": [
       "True"
      ]
     },
     "execution_count": 2,
     "metadata": {},
     "output_type": "execute_result"
    }
   ],
   "source": [
    "local_dir = os.path.dirname(os.path.abspath('__file__'))\n",
    "parent_dir = os.path.dirname(local_dir)\n",
    "config_file_path = os.path.join(parent_dir,'API.env')\n",
    "load_dotenv(Path(config_file_path))"
   ]
  },
  {
   "cell_type": "code",
   "execution_count": 3,
   "metadata": {},
   "outputs": [],
   "source": [
    "api_key = os.getenv(\"API_KEY\")\n",
    "api_secret = os.getenv(\"API_SECRET\")\n",
    "base_url = os.getenv(\"BASE_URL\")"
   ]
  },
  {
   "cell_type": "code",
   "execution_count": 4,
   "metadata": {},
   "outputs": [],
   "source": [
    "client = CryptoHistoricalDataClient()\n",
    "stock_client = StockHistoricalDataClient(api_key,api_secret)"
   ]
  },
  {
   "cell_type": "code",
   "execution_count": 5,
   "metadata": {},
   "outputs": [],
   "source": [
    "request_params = CryptoBarsRequest(\n",
    "    symbol_or_symbols=[\"BTC/USD\"],\n",
    "    timeframe=TimeFrame.Day,\n",
    "    start=\"2020-01-01\"\n",
    ")\n",
    "\n",
    "btc_bars = client.get_crypto_bars(request_params=request_params)\n",
    "df = btc_bars.df"
   ]
  },
  {
   "cell_type": "code",
   "execution_count": 6,
   "metadata": {},
   "outputs": [],
   "source": [
    "df.reset_index(inplace=True)"
   ]
  },
  {
   "cell_type": "code",
   "execution_count": 7,
   "metadata": {},
   "outputs": [
    {
     "data": {
      "text/html": [
       "<div>\n",
       "<style scoped>\n",
       "    .dataframe tbody tr th:only-of-type {\n",
       "        vertical-align: middle;\n",
       "    }\n",
       "\n",
       "    .dataframe tbody tr th {\n",
       "        vertical-align: top;\n",
       "    }\n",
       "\n",
       "    .dataframe thead th {\n",
       "        text-align: right;\n",
       "    }\n",
       "</style>\n",
       "<table border=\"1\" class=\"dataframe\">\n",
       "  <thead>\n",
       "    <tr style=\"text-align: right;\">\n",
       "      <th></th>\n",
       "      <th>symbol</th>\n",
       "      <th>timestamp</th>\n",
       "      <th>open</th>\n",
       "      <th>high</th>\n",
       "      <th>low</th>\n",
       "      <th>close</th>\n",
       "      <th>volume</th>\n",
       "      <th>trade_count</th>\n",
       "      <th>vwap</th>\n",
       "    </tr>\n",
       "  </thead>\n",
       "  <tbody>\n",
       "    <tr>\n",
       "      <th>0</th>\n",
       "      <td>BTC/USD</td>\n",
       "      <td>2021-01-01 06:00:00+00:00</td>\n",
       "      <td>29255.7100</td>\n",
       "      <td>29682.2900</td>\n",
       "      <td>28707.56</td>\n",
       "      <td>29676.7900</td>\n",
       "      <td>848.874030</td>\n",
       "      <td>29639.0</td>\n",
       "      <td>29316.444625</td>\n",
       "    </tr>\n",
       "    <tr>\n",
       "      <th>1</th>\n",
       "      <td>BTC/USD</td>\n",
       "      <td>2021-01-02 06:00:00+00:00</td>\n",
       "      <td>29678.3400</td>\n",
       "      <td>34200.0000</td>\n",
       "      <td>29555.99</td>\n",
       "      <td>33769.5200</td>\n",
       "      <td>2144.592516</td>\n",
       "      <td>60152.0</td>\n",
       "      <td>31941.412694</td>\n",
       "    </tr>\n",
       "    <tr>\n",
       "      <th>2</th>\n",
       "      <td>BTC/USD</td>\n",
       "      <td>2021-01-03 06:00:00+00:00</td>\n",
       "      <td>33769.5200</td>\n",
       "      <td>34812.9300</td>\n",
       "      <td>32300.61</td>\n",
       "      <td>32908.0200</td>\n",
       "      <td>1838.695433</td>\n",
       "      <td>58725.0</td>\n",
       "      <td>33505.269474</td>\n",
       "    </tr>\n",
       "    <tr>\n",
       "      <th>3</th>\n",
       "      <td>BTC/USD</td>\n",
       "      <td>2021-01-04 06:00:00+00:00</td>\n",
       "      <td>32907.3600</td>\n",
       "      <td>33496.0300</td>\n",
       "      <td>27900.00</td>\n",
       "      <td>30441.5700</td>\n",
       "      <td>2711.189503</td>\n",
       "      <td>69226.0</td>\n",
       "      <td>31267.965121</td>\n",
       "    </tr>\n",
       "    <tr>\n",
       "      <th>4</th>\n",
       "      <td>BTC/USD</td>\n",
       "      <td>2021-01-05 06:00:00+00:00</td>\n",
       "      <td>30461.8400</td>\n",
       "      <td>35851.4200</td>\n",
       "      <td>29927.55</td>\n",
       "      <td>35063.0000</td>\n",
       "      <td>1756.751333</td>\n",
       "      <td>61880.0</td>\n",
       "      <td>33151.367357</td>\n",
       "    </tr>\n",
       "    <tr>\n",
       "      <th>...</th>\n",
       "      <td>...</td>\n",
       "      <td>...</td>\n",
       "      <td>...</td>\n",
       "      <td>...</td>\n",
       "      <td>...</td>\n",
       "      <td>...</td>\n",
       "      <td>...</td>\n",
       "      <td>...</td>\n",
       "      <td>...</td>\n",
       "    </tr>\n",
       "    <tr>\n",
       "      <th>1211</th>\n",
       "      <td>BTC/USD</td>\n",
       "      <td>2024-04-26 05:00:00+00:00</td>\n",
       "      <td>64140.1100</td>\n",
       "      <td>64772.9500</td>\n",
       "      <td>62422.42</td>\n",
       "      <td>63015.4000</td>\n",
       "      <td>1.355925</td>\n",
       "      <td>114.0</td>\n",
       "      <td>63884.232996</td>\n",
       "    </tr>\n",
       "    <tr>\n",
       "      <th>1212</th>\n",
       "      <td>BTC/USD</td>\n",
       "      <td>2024-04-27 05:00:00+00:00</td>\n",
       "      <td>63036.1265</td>\n",
       "      <td>64336.0400</td>\n",
       "      <td>62638.95</td>\n",
       "      <td>63832.9150</td>\n",
       "      <td>1.497351</td>\n",
       "      <td>88.0</td>\n",
       "      <td>63093.376465</td>\n",
       "    </tr>\n",
       "    <tr>\n",
       "      <th>1213</th>\n",
       "      <td>BTC/USD</td>\n",
       "      <td>2024-04-28 05:00:00+00:00</td>\n",
       "      <td>63799.4000</td>\n",
       "      <td>64005.8825</td>\n",
       "      <td>62220.23</td>\n",
       "      <td>62532.1650</td>\n",
       "      <td>0.806878</td>\n",
       "      <td>66.0</td>\n",
       "      <td>63466.112346</td>\n",
       "    </tr>\n",
       "    <tr>\n",
       "      <th>1214</th>\n",
       "      <td>BTC/USD</td>\n",
       "      <td>2024-04-29 05:00:00+00:00</td>\n",
       "      <td>62464.3550</td>\n",
       "      <td>64688.8345</td>\n",
       "      <td>61804.85</td>\n",
       "      <td>63372.2000</td>\n",
       "      <td>2.529692</td>\n",
       "      <td>177.0</td>\n",
       "      <td>62584.585395</td>\n",
       "    </tr>\n",
       "    <tr>\n",
       "      <th>1215</th>\n",
       "      <td>BTC/USD</td>\n",
       "      <td>2024-04-30 05:00:00+00:00</td>\n",
       "      <td>63408.9385</td>\n",
       "      <td>63480.7200</td>\n",
       "      <td>60296.60</td>\n",
       "      <td>60326.7425</td>\n",
       "      <td>1.746419</td>\n",
       "      <td>115.0</td>\n",
       "      <td>61132.312129</td>\n",
       "    </tr>\n",
       "  </tbody>\n",
       "</table>\n",
       "<p>1216 rows × 9 columns</p>\n",
       "</div>"
      ],
      "text/plain": [
       "       symbol                 timestamp        open        high       low  \\\n",
       "0     BTC/USD 2021-01-01 06:00:00+00:00  29255.7100  29682.2900  28707.56   \n",
       "1     BTC/USD 2021-01-02 06:00:00+00:00  29678.3400  34200.0000  29555.99   \n",
       "2     BTC/USD 2021-01-03 06:00:00+00:00  33769.5200  34812.9300  32300.61   \n",
       "3     BTC/USD 2021-01-04 06:00:00+00:00  32907.3600  33496.0300  27900.00   \n",
       "4     BTC/USD 2021-01-05 06:00:00+00:00  30461.8400  35851.4200  29927.55   \n",
       "...       ...                       ...         ...         ...       ...   \n",
       "1211  BTC/USD 2024-04-26 05:00:00+00:00  64140.1100  64772.9500  62422.42   \n",
       "1212  BTC/USD 2024-04-27 05:00:00+00:00  63036.1265  64336.0400  62638.95   \n",
       "1213  BTC/USD 2024-04-28 05:00:00+00:00  63799.4000  64005.8825  62220.23   \n",
       "1214  BTC/USD 2024-04-29 05:00:00+00:00  62464.3550  64688.8345  61804.85   \n",
       "1215  BTC/USD 2024-04-30 05:00:00+00:00  63408.9385  63480.7200  60296.60   \n",
       "\n",
       "           close       volume  trade_count          vwap  \n",
       "0     29676.7900   848.874030      29639.0  29316.444625  \n",
       "1     33769.5200  2144.592516      60152.0  31941.412694  \n",
       "2     32908.0200  1838.695433      58725.0  33505.269474  \n",
       "3     30441.5700  2711.189503      69226.0  31267.965121  \n",
       "4     35063.0000  1756.751333      61880.0  33151.367357  \n",
       "...          ...          ...          ...           ...  \n",
       "1211  63015.4000     1.355925        114.0  63884.232996  \n",
       "1212  63832.9150     1.497351         88.0  63093.376465  \n",
       "1213  62532.1650     0.806878         66.0  63466.112346  \n",
       "1214  63372.2000     2.529692        177.0  62584.585395  \n",
       "1215  60326.7425     1.746419        115.0  61132.312129  \n",
       "\n",
       "[1216 rows x 9 columns]"
      ]
     },
     "execution_count": 7,
     "metadata": {},
     "output_type": "execute_result"
    }
   ],
   "source": [
    "df"
   ]
  },
  {
   "cell_type": "code",
   "execution_count": 15,
   "metadata": {},
   "outputs": [],
   "source": [
    "trading_client = TradingClient(api_key,api_secret,paper=True)"
   ]
  },
  {
   "cell_type": "code",
   "execution_count": 26,
   "metadata": {},
   "outputs": [],
   "source": [
    "market_order_data = MarketOrderRequest(\n",
    "    symbol='BTCUSD',\n",
    "    qty=1,\n",
    "    side=OrderSide.BUY,\n",
    "    time_in_force=TimeInForce.GTC\n",
    ")\n",
    "market_order = trading_client.submit_order(\n",
    "    order_data=market_order_data\n",
    ")"
   ]
  },
  {
   "cell_type": "code",
   "execution_count": 27,
   "metadata": {},
   "outputs": [],
   "source": [
    "pos = trading_client.get_open_position('BTCUSD')\n",
    "\n",
    "market_order_data = MarketOrderRequest(\n",
    "    symbol='BTCUSD',\n",
    "    qty=pos.qty,\n",
    "    side=OrderSide.SELL,\n",
    "    time_in_force=TimeInForce.GTC\n",
    ")\n",
    "\n",
    "market_order = trading_client.submit_order(\n",
    "    order_data=market_order_data\n",
    ")"
   ]
  },
  {
   "cell_type": "markdown",
   "metadata": {},
   "source": []
  }
 ],
 "metadata": {
  "kernelspec": {
   "display_name": "Python 3.10.14 ('paperTradeVenv')",
   "language": "python",
   "name": "python3"
  },
  "language_info": {
   "codemirror_mode": {
    "name": "ipython",
    "version": 3
   },
   "file_extension": ".py",
   "mimetype": "text/x-python",
   "name": "python",
   "nbconvert_exporter": "python",
   "pygments_lexer": "ipython3",
   "version": "3.10.14"
  },
  "orig_nbformat": 4,
  "vscode": {
   "interpreter": {
    "hash": "418751ef2703805e638e5172c2991c3c2d3b23812b47569403eb8339550319a8"
   }
  }
 },
 "nbformat": 4,
 "nbformat_minor": 2
}
