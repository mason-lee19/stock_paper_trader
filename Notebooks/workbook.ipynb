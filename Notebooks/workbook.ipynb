{
 "cells": [
  {
   "cell_type": "code",
   "execution_count": 47,
   "metadata": {},
   "outputs": [],
   "source": [
    "from dotenv import load_dotenv\n",
    "import os\n",
    "from pathlib import Path\n",
    "from alpaca.data import CryptoHistoricalDataClient, StockHistoricalDataClient\n",
    "from alpaca.data.requests import CryptoBarsRequest\n",
    "from alpaca.data.timeframe import TimeFrame\n",
    "import pandas as pd\n",
    "import pandas_ta as ta\n",
    "import talib as old_ta\n",
    "from sqlalchemy import create_engine\n",
    "from alpaca.trading.client import TradingClient\n",
    "from alpaca.trading.requests import MarketOrderRequest\n",
    "from alpaca.trading.enums import OrderSide, TimeInForce"
   ]
  },
  {
   "cell_type": "code",
   "execution_count": 2,
   "metadata": {},
   "outputs": [
    {
     "data": {
      "text/plain": [
       "True"
      ]
     },
     "execution_count": 2,
     "metadata": {},
     "output_type": "execute_result"
    }
   ],
   "source": [
    "local_dir = os.path.dirname(os.path.abspath('__file__'))\n",
    "parent_dir = os.path.dirname(local_dir)\n",
    "config_file_path = os.path.join(parent_dir,'API.env')\n",
    "load_dotenv(Path(config_file_path))"
   ]
  },
  {
   "cell_type": "code",
   "execution_count": 3,
   "metadata": {},
   "outputs": [
    {
     "name": "stdout",
     "output_type": "stream",
     "text": [
      "/Users/ml1000278614/Documents/PythonProjects/stock_paper_trader\n"
     ]
    }
   ],
   "source": [
    "local_dir = os.path.dirname(os.path.abspath('__file__'))\n",
    "print(os.path.dirname(local_dir))"
   ]
  },
  {
   "cell_type": "code",
   "execution_count": 4,
   "metadata": {},
   "outputs": [
    {
     "data": {
      "text/plain": [
      ]
     },
     "execution_count": 4,
     "metadata": {},
     "output_type": "execute_result"
    }
   ],
   "source": [
    "api_key = os.getenv(\"API_KEY\")\n",
    "api_secret = os.getenv(\"API_SECRET\")\n",
    "base_url = os.getenv(\"BASE_URL\")\n",
    "\n",
    "api_key"
   ]
  },
  {
   "cell_type": "code",
   "execution_count": 13,
   "metadata": {},
   "outputs": [],
   "source": [
    "from google.cloud import storage"
   ]
  },
  {
   "cell_type": "code",
   "execution_count": 53,
   "metadata": {},
   "outputs": [
    {
     "data": {
      "text/html": [
       "<div>\n",
       "<style scoped>\n",
       "    .dataframe tbody tr th:only-of-type {\n",
       "        vertical-align: middle;\n",
       "    }\n",
       "\n",
       "    .dataframe tbody tr th {\n",
       "        vertical-align: top;\n",
       "    }\n",
       "\n",
       "    .dataframe thead th {\n",
       "        text-align: right;\n",
       "    }\n",
       "</style>\n",
       "<table border=\"1\" class=\"dataframe\">\n",
       "  <thead>\n",
       "    <tr style=\"text-align: right;\">\n",
       "      <th></th>\n",
       "      <th>stock</th>\n",
       "      <th>action</th>\n",
       "      <th>price</th>\n",
       "      <th>date</th>\n",
       "    </tr>\n",
       "  </thead>\n",
       "  <tbody>\n",
       "    <tr>\n",
       "      <th>0</th>\n",
       "      <td>btc-usd</td>\n",
       "      <td>sell</td>\n",
       "      <td>2450.19</td>\n",
       "      <td>01-05-2024</td>\n",
       "    </tr>\n",
       "  </tbody>\n",
       "</table>\n",
       "</div>"
      ],
      "text/plain": [
       "     stock action    price        date\n",
       "0  btc-usd   sell  2450.19  01-05-2024"
      ]
     },
     "execution_count": 53,
     "metadata": {},
     "output_type": "execute_result"
    }
   ],
   "source": [
    "data = {'stock':['btc-usd'],'action':['sell'],'price':[2450.19],'date':['01-05-2024']}\n",
    "df = pd.DataFrame(data)\n",
    "df"
   ]
  },
  {
   "cell_type": "code",
   "execution_count": 54,
   "metadata": {},
   "outputs": [],
   "source": [
    "client = storage.Client()\n",
    "\n",
    "bucket_name = 'trade-result-bucket'\n",
    "blob_name = 'trade-results.db'\n",
    "\n",
    "table_name = 'results'\n",
    "url = 'sqlite:///temp_db_file.db'\n",
    "\n",
    "# Connect to google cloud bucket\n",
    "bucket = client.get_bucket('trade-result-bucket')\n",
    "blob = bucket.blob(blob_name)\n",
    "\n",
    "# Check if blob exists\n",
    "if blob.exists():\n",
    "    blob.download_to_filename(\"temp_db_file.db\")\n",
    "\n",
    "engine = create_engine(url)\n",
    "\n",
    "df.to_sql(table_name,con=engine,if_exists='append',index=False)\n",
    "\n",
    "# Upload updated db file\n",
    "blob.upload_from_filename(\"temp_db_file.db\")\n",
    "\n",
    "# Remove File\n",
    "os.remove(\"temp_db_file.db\")\n",
    "\n"
   ]
  },
  {
   "cell_type": "code",
   "execution_count": 14,
   "metadata": {},
   "outputs": [
    {
     "data": {
      "text/html": [
       "<div>\n",
       "<style scoped>\n",
       "    .dataframe tbody tr th:only-of-type {\n",
       "        vertical-align: middle;\n",
       "    }\n",
       "\n",
       "    .dataframe tbody tr th {\n",
       "        vertical-align: top;\n",
       "    }\n",
       "\n",
       "    .dataframe thead th {\n",
       "        text-align: right;\n",
       "    }\n",
       "</style>\n",
       "<table border=\"1\" class=\"dataframe\">\n",
       "  <thead>\n",
       "    <tr style=\"text-align: right;\">\n",
       "      <th></th>\n",
       "      <th>stock</th>\n",
       "      <th>action</th>\n",
       "      <th>price</th>\n",
       "      <th>date</th>\n",
       "    </tr>\n",
       "  </thead>\n",
       "  <tbody>\n",
       "    <tr>\n",
       "      <th>0</th>\n",
       "      <td>BTC/USD</td>\n",
       "      <td>None</td>\n",
       "      <td>62489.955</td>\n",
       "      <td>2024-05-08 05:00:00.000000</td>\n",
       "    </tr>\n",
       "    <tr>\n",
       "      <th>1</th>\n",
       "      <td>BTC/USD</td>\n",
       "      <td>None</td>\n",
       "      <td>62489.955</td>\n",
       "      <td>2024-05-08 05:00:00.000000</td>\n",
       "    </tr>\n",
       "  </tbody>\n",
       "</table>\n",
       "</div>"
      ],
      "text/plain": [
       "     stock action      price                        date\n",
       "0  BTC/USD   None  62489.955  2024-05-08 05:00:00.000000\n",
       "1  BTC/USD   None  62489.955  2024-05-08 05:00:00.000000"
      ]
     },
     "execution_count": 14,
     "metadata": {},
     "output_type": "execute_result"
    }
   ],
   "source": [
    "client = storage.Client()\n",
    "\n",
    "bucket_name = 'trade-result-bucket'\n",
    "blob_name = 'trade-results.db'\n",
    "\n",
    "table_name = 'results'\n",
    "url = 'sqlite:///temp_db_file.db'\n",
    "\n",
    "# Connect to google cloud bucket\n",
    "bucket = client.get_bucket('trade-result-bucket')\n",
    "blob = bucket.blob(blob_name)\n",
    "\n",
    "blob.download_to_filename(\"temp_db_file.db\")\n",
    "\n",
    "engine = create_engine(url)\n",
    "query = f\"SELECT * FROM {table_name}\"\n",
    "\n",
    "pd.read_sql(query,engine)"
   ]
  },
  {
   "cell_type": "code",
   "execution_count": 5,
   "metadata": {},
   "outputs": [],
   "source": [
    "client = CryptoHistoricalDataClient()\n",
    "stock_client = StockHistoricalDataClient(api_key,api_secret)"
   ]
  },
  {
   "cell_type": "code",
   "execution_count": 10,
   "metadata": {},
   "outputs": [],
   "source": [
    "request_params = CryptoBarsRequest(\n",
    "    symbol_or_symbols=[\"BTC/USD\"],\n",
    "    timeframe=TimeFrame.Day,\n",
    "    start=\"2020-01-01\"\n",
    ")\n",
    "\n",
    "btc_bars = client.get_crypto_bars(request_params=request_params)\n",
    "df = btc_bars.df"
   ]
  },
  {
   "cell_type": "code",
   "execution_count": 13,
   "metadata": {},
   "outputs": [
    {
     "data": {
      "text/html": [
       "<div>\n",
       "<style scoped>\n",
       "    .dataframe tbody tr th:only-of-type {\n",
       "        vertical-align: middle;\n",
       "    }\n",
       "\n",
       "    .dataframe tbody tr th {\n",
       "        vertical-align: top;\n",
       "    }\n",
       "\n",
       "    .dataframe thead th {\n",
       "        text-align: right;\n",
       "    }\n",
       "</style>\n",
       "<table border=\"1\" class=\"dataframe\">\n",
       "  <thead>\n",
       "    <tr style=\"text-align: right;\">\n",
       "      <th></th>\n",
       "      <th>index</th>\n",
       "      <th>symbol</th>\n",
       "      <th>timestamp</th>\n",
       "      <th>open</th>\n",
       "      <th>high</th>\n",
       "      <th>low</th>\n",
       "      <th>close</th>\n",
       "      <th>volume</th>\n",
       "      <th>trade_count</th>\n",
       "      <th>vwap</th>\n",
       "    </tr>\n",
       "  </thead>\n",
       "  <tbody>\n",
       "    <tr>\n",
       "      <th>0</th>\n",
       "      <td>0</td>\n",
       "      <td>BTC/USD</td>\n",
       "      <td>2021-01-01 06:00:00+00:00</td>\n",
       "      <td>29255.71</td>\n",
       "      <td>29682.29</td>\n",
       "      <td>28707.56</td>\n",
       "      <td>29676.79</td>\n",
       "      <td>848.874030</td>\n",
       "      <td>29639.0</td>\n",
       "      <td>29316.444625</td>\n",
       "    </tr>\n",
       "    <tr>\n",
       "      <th>1</th>\n",
       "      <td>1</td>\n",
       "      <td>BTC/USD</td>\n",
       "      <td>2021-01-02 06:00:00+00:00</td>\n",
       "      <td>29678.34</td>\n",
       "      <td>34200.00</td>\n",
       "      <td>29555.99</td>\n",
       "      <td>33769.52</td>\n",
       "      <td>2144.592516</td>\n",
       "      <td>60152.0</td>\n",
       "      <td>31941.412694</td>\n",
       "    </tr>\n",
       "    <tr>\n",
       "      <th>2</th>\n",
       "      <td>2</td>\n",
       "      <td>BTC/USD</td>\n",
       "      <td>2021-01-03 06:00:00+00:00</td>\n",
       "      <td>33769.52</td>\n",
       "      <td>34812.93</td>\n",
       "      <td>32300.61</td>\n",
       "      <td>32908.02</td>\n",
       "      <td>1838.695433</td>\n",
       "      <td>58725.0</td>\n",
       "      <td>33505.269474</td>\n",
       "    </tr>\n",
       "    <tr>\n",
       "      <th>3</th>\n",
       "      <td>3</td>\n",
       "      <td>BTC/USD</td>\n",
       "      <td>2021-01-04 06:00:00+00:00</td>\n",
       "      <td>32907.36</td>\n",
       "      <td>33496.03</td>\n",
       "      <td>27900.00</td>\n",
       "      <td>30441.57</td>\n",
       "      <td>2711.189503</td>\n",
       "      <td>69226.0</td>\n",
       "      <td>31267.965121</td>\n",
       "    </tr>\n",
       "    <tr>\n",
       "      <th>4</th>\n",
       "      <td>4</td>\n",
       "      <td>BTC/USD</td>\n",
       "      <td>2021-01-05 06:00:00+00:00</td>\n",
       "      <td>30461.84</td>\n",
       "      <td>35851.42</td>\n",
       "      <td>29927.55</td>\n",
       "      <td>35063.00</td>\n",
       "      <td>1756.751333</td>\n",
       "      <td>61880.0</td>\n",
       "      <td>33151.367357</td>\n",
       "    </tr>\n",
       "  </tbody>\n",
       "</table>\n",
       "</div>"
      ],
      "text/plain": [
       "   index   symbol                 timestamp      open      high       low  \\\n",
       "0      0  BTC/USD 2021-01-01 06:00:00+00:00  29255.71  29682.29  28707.56   \n",
       "1      1  BTC/USD 2021-01-02 06:00:00+00:00  29678.34  34200.00  29555.99   \n",
       "2      2  BTC/USD 2021-01-03 06:00:00+00:00  33769.52  34812.93  32300.61   \n",
       "3      3  BTC/USD 2021-01-04 06:00:00+00:00  32907.36  33496.03  27900.00   \n",
       "4      4  BTC/USD 2021-01-05 06:00:00+00:00  30461.84  35851.42  29927.55   \n",
       "\n",
       "      close       volume  trade_count          vwap  \n",
       "0  29676.79   848.874030      29639.0  29316.444625  \n",
       "1  33769.52  2144.592516      60152.0  31941.412694  \n",
       "2  32908.02  1838.695433      58725.0  33505.269474  \n",
       "3  30441.57  2711.189503      69226.0  31267.965121  \n",
       "4  35063.00  1756.751333      61880.0  33151.367357  "
      ]
     },
     "execution_count": 13,
     "metadata": {},
     "output_type": "execute_result"
    }
   ],
   "source": [
    "df.reset_index(inplace=True)\n",
    "df[0:5]"
   ]
  },
  {
   "cell_type": "code",
   "execution_count": 86,
   "metadata": {},
   "outputs": [
    {
     "name": "stdout",
     "output_type": "stream",
     "text": [
      "      MACD_12_26_9  MACDh_12_26_9  MACDs_12_26_9\n",
      "0              NaN            NaN            NaN\n",
      "1              NaN            NaN            NaN\n",
      "2              NaN            NaN            NaN\n",
      "3              NaN            NaN            NaN\n",
      "4              NaN            NaN            NaN\n",
      "...            ...            ...            ...\n",
      "1226   -958.158910      26.629806    -984.788715\n",
      "1227   -983.568729       0.975989    -984.544718\n",
      "1228   -869.025747      92.415177    -961.440924\n",
      "1229   -816.367300     116.058899    -932.426199\n",
      "1230   -526.896673     324.423621    -851.320294\n",
      "\n",
      "[1231 rows x 3 columns]\n"
     ]
    }
   ],
   "source": [
    "print(ta.macd(df['close'],length=20))"
   ]
  },
  {
   "cell_type": "code",
   "execution_count": 6,
   "metadata": {},
   "outputs": [],
   "source": [
    "trading_client = TradingClient(api_key,api_secret,paper=True)"
   ]
  },
  {
   "cell_type": "code",
   "execution_count": 9,
   "metadata": {},
   "outputs": [],
   "source": [
    "market_order_data = MarketOrderRequest(\n",
    "    symbol='BTCUSD',\n",
    "    qty=0.23,\n",
    "    side=OrderSide.BUY,\n",
    "    time_in_force=TimeInForce.GTC\n",
    ")\n",
    "market_order = trading_client.submit_order(\n",
    "    order_data=market_order_data\n",
    ")"
   ]
  },
  {
   "cell_type": "code",
   "execution_count": 11,
   "metadata": {},
   "outputs": [],
   "source": [
    "pos = trading_client.get_open_position('BTCUSD')\n",
    "\n",
    "market_order_data = MarketOrderRequest(\n",
    "    symbol='BTCUSD',\n",
    "    qty=pos.qty,\n",
    "    side=OrderSide.SELL,\n",
    "    time_in_force=TimeInForce.GTC\n",
    ")\n",
    "\n",
    "market_order = trading_client.submit_order(\n",
    "    order_data=market_order_data\n",
    ")"
   ]
  },
  {
   "cell_type": "code",
   "execution_count": null,
   "metadata": {},
   "outputs": [],
   "source": []
  }
 ],
 "metadata": {
  "kernelspec": {
   "display_name": "Python 3.10.14 ('paperTradeVenv')",
   "language": "python",
   "name": "python3"
  },
  "language_info": {
   "codemirror_mode": {
    "name": "ipython",
    "version": 3
   },
   "file_extension": ".py",
   "mimetype": "text/x-python",
   "name": "python",
   "nbconvert_exporter": "python",
   "pygments_lexer": "ipython3",
   "version": "3.10.14"
  },
  "orig_nbformat": 4,
  "vscode": {
   "interpreter": {
    "hash": "418751ef2703805e638e5172c2991c3c2d3b23812b47569403eb8339550319a8"
   }
  }
 },
 "nbformat": 4,
 "nbformat_minor": 2
}
